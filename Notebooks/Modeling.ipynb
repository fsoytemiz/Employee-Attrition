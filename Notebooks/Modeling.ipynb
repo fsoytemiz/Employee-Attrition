{
 "cells": [
  {
   "cell_type": "code",
   "execution_count": 1,
   "metadata": {},
   "outputs": [],
   "source": [
    "# load packages\n",
    "import pandas as pd\n",
    "import numpy as np\n",
    "import seaborn as sns \n",
    "import pandas.testing\n",
    "import matplotlib.pyplot as plt\n",
    "from matplotlib.patches import Patch\n",
    "import os \n",
    "%matplotlib inline\n",
    "\n",
    "# Import and suppress warnings\n",
    "import warnings\n",
    "warnings.filterwarnings('ignore')"
   ]
  },
  {
   "cell_type": "code",
   "execution_count": 2,
   "metadata": {},
   "outputs": [],
   "source": [
    "os.getcwd()\n",
    "df = pd.read_csv(\"HR-Employee-Attrition.csv\")\n",
    "# Remove EmployeeCount, StandardHours, Over18 since there is no variation\n",
    "df = df.drop(df[[\"EmployeeCount\", \"StandardHours\", \"Over18\", \"EmployeeNumber\"]], axis = 1)\n",
    "df[\"Attrition\"] = np.where(df[\"Attrition\"] == \"Yes\", 1, 0)\n",
    "data_orig = df"
   ]
  },
  {
   "cell_type": "markdown",
   "metadata": {},
   "source": [
    "# Modeling Part"
   ]
  },
  {
   "cell_type": "code",
   "execution_count": 3,
   "metadata": {},
   "outputs": [],
   "source": [
    "df = data_orig"
   ]
  },
  {
   "cell_type": "code",
   "execution_count": 4,
   "metadata": {},
   "outputs": [],
   "source": [
    "categorical = df.select_dtypes(include=[\"object\"])\n",
    "numeric = df.select_dtypes(include=[\"int\"])"
   ]
  },
  {
   "cell_type": "markdown",
   "metadata": {},
   "source": [
    "### Import all necessary packages"
   ]
  },
  {
   "cell_type": "code",
   "execution_count": 5,
   "metadata": {},
   "outputs": [],
   "source": [
    "from sklearn.model_selection import train_test_split, GridSearchCV\n",
    "from sklearn.ensemble import RandomForestClassifier\n",
    "from sklearn.svm import SVC\n",
    "from sklearn.linear_model import LogisticRegression\n",
    "from sklearn.ensemble import AdaBoostClassifier, GradientBoostingClassifier\n",
    "from sklearn.neighbors import KNeighborsClassifier\n",
    "from sklearn.metrics import accuracy_score, confusion_matrix, classification_report, f1_score, recall_score, roc_curve, roc_auc_score\n",
    "from imblearn.over_sampling import SMOTE\n",
    "from sklearn.preprocessing import MinMaxScaler, StandardScaler, RobustScaler\n",
    "from numpy import arange\n",
    "from numpy import argmax"
   ]
  },
  {
   "cell_type": "code",
   "execution_count": 6,
   "metadata": {},
   "outputs": [],
   "source": [
    "df = data_orig"
   ]
  },
  {
   "cell_type": "code",
   "execution_count": 7,
   "metadata": {},
   "outputs": [
    {
     "data": {
      "text/plain": [
       "Index(['Age', 'Attrition', 'BusinessTravel', 'DailyRate', 'Department',\n",
       "       'DistanceFromHome', 'Education', 'EducationField',\n",
       "       'EnvironmentSatisfaction', 'Gender', 'HourlyRate', 'JobInvolvement',\n",
       "       'JobLevel', 'JobRole', 'JobSatisfaction', 'MaritalStatus',\n",
       "       'MonthlyIncome', 'MonthlyRate', 'NumCompaniesWorked', 'OverTime',\n",
       "       'PercentSalaryHike', 'PerformanceRating', 'RelationshipSatisfaction',\n",
       "       'StockOptionLevel', 'TotalWorkingYears', 'TrainingTimesLastYear',\n",
       "       'WorkLifeBalance', 'YearsAtCompany', 'YearsInCurrentRole',\n",
       "       'YearsSinceLastPromotion', 'YearsWithCurrManager'],\n",
       "      dtype='object')"
      ]
     },
     "execution_count": 7,
     "metadata": {},
     "output_type": "execute_result"
    }
   ],
   "source": [
    "df.columns"
   ]
  },
  {
   "cell_type": "markdown",
   "metadata": {},
   "source": [
    "* ## Variance Inflation Factor"
   ]
  },
  {
   "cell_type": "code",
   "execution_count": 8,
   "metadata": {},
   "outputs": [
    {
     "name": "stdout",
     "output_type": "stream",
     "text": [
      "                     feature         VIF\n",
      "0                      const  202.093542\n",
      "1                        Age    2.044890\n",
      "2                  DailyRate    1.018198\n",
      "3           DistanceFromHome    1.015515\n",
      "4                  Education    1.059352\n",
      "5    EnvironmentSatisfaction    1.010099\n",
      "6                 HourlyRate    1.018318\n",
      "7             JobInvolvement    1.016316\n",
      "8                   JobLevel   11.205067\n",
      "9            JobSatisfaction    1.014511\n",
      "10             MonthlyIncome   10.800070\n",
      "11               MonthlyRate    1.012282\n",
      "12        NumCompaniesWorked    1.257737\n",
      "13         PercentSalaryHike    2.516385\n",
      "14         PerformanceRating    2.513734\n",
      "15  RelationshipSatisfaction    1.015771\n",
      "16          StockOptionLevel    1.017682\n",
      "17         TotalWorkingYears    4.767796\n",
      "18     TrainingTimesLastYear    1.009917\n",
      "19           WorkLifeBalance    1.014884\n",
      "20            YearsAtCompany    4.587391\n",
      "21        YearsInCurrentRole    2.718604\n",
      "22   YearsSinceLastPromotion    1.674278\n",
      "23      YearsWithCurrManager    2.774587\n"
     ]
    }
   ],
   "source": [
    "#Imports\n",
    "from patsy import dmatrices\n",
    "import statsmodels.api as sm\n",
    "from statsmodels.stats.outliers_influence import variance_inflation_factor\n",
    "\n",
    "categorical = df.select_dtypes(include=[\"object\"])\n",
    "\n",
    "xx = data_orig.drop([\"Attrition\"],1)\n",
    "data = xx.select_dtypes(include=[\"int\"])\n",
    "# data = pd.get_dummies(xx, columns = categorical.columns, drop_first = True)\n",
    "data = sm.add_constant(data)\n",
    "\n",
    "# VIF dataframe\n",
    "vif_data = pd.DataFrame()\n",
    "vif_data[\"feature\"] = data.columns\n",
    "  \n",
    "# calculating VIF for each feature\n",
    "vif_data[\"VIF\"] = [variance_inflation_factor(data.values, i)\n",
    "                          for i in range(len(data.columns))]\n",
    "  \n",
    "print(vif_data)"
   ]
  },
  {
   "cell_type": "markdown",
   "metadata": {},
   "source": [
    "As expected, JobLevel and MonthlyIncome have a high variance inflation factor because they \"explain\" the same variance within this dataset. We would need to discard one of these variables before moving on to model building or risk building a model with high multicolinearity. I will remove JobLevel from the dataset. We usually remove feature if their vif score is higher than 10 or 5. However, we aren’t necessarily removing every feature with a vif score above 10, if it is a feature we care about we may want to remove other features instead to help get the vif score below 10 for that feature. Therefore, I will keep MonthlyIncome feature to use in the model."
   ]
  },
  {
   "cell_type": "markdown",
   "metadata": {},
   "source": [
    "## Define Some Functions"
   ]
  },
  {
   "cell_type": "code",
   "execution_count": 9,
   "metadata": {},
   "outputs": [],
   "source": [
    "def model_built(selected_model):    \n",
    "    model = selected_model.fit(X_train, y_train)\n",
    "    return model"
   ]
  },
  {
   "cell_type": "code",
   "execution_count": 10,
   "metadata": {},
   "outputs": [],
   "source": [
    "def model_metrics(selected_model):\n",
    "    \n",
    "    model = selected_model.fit(X_train, y_train)\n",
    "    y_pred = model.predict(X_test)\n",
    "    y_proba = model.predict_proba(X_test)[:,1]\n",
    "    accuracy = accuracy_score(y_test, y_pred)\n",
    "    \n",
    "    print(\"Accuracy Score\", \"\\n\", accuracy, \"\\n\")\n",
    "    \n",
    "    print(\"f1 score\", \"\\n\", f1_score(y_test, y_pred), \"\\n\")\n",
    "    \n",
    "    print(\"ROC auc\", \"\\n\", roc_auc_score(y_test, y_pred), \"\\n\")\n",
    "    \n",
    "    print(\"Classification Report\", \"\\n\", classification_report(y_pred, y_test), \"\\n\")\n",
    "    \n",
    "    print(\"Confusion Matrix\")\n",
    "    conf_matrix = confusion_matrix(y_test, y_pred)\n",
    "    sns.heatmap(conf_matrix, square=True, annot=True, annot_kws={\"size\": 16}, fmt='d', cbar=False, cmap = 'Blues_r')\n",
    "    plt.xlabel('Predicted', fontsize = 14)\n",
    "    plt.ylabel('Actual', fontsize = 14)\n",
    "    plt.show()\n",
    "    "
   ]
  },
  {
   "cell_type": "code",
   "execution_count": 11,
   "metadata": {},
   "outputs": [],
   "source": [
    "def confusion_matrix_default(builted_model):\n",
    "    \n",
    "    y_pred = builted_model.predict(X_test)\n",
    "    print(\"Confusion Matrix for Default Model\", \"\\n\")\n",
    "    conf_matrix = confusion_matrix(y_test, y_pred)\n",
    "    sns.heatmap(conf_matrix, square=True, annot=True, annot_kws={\"size\": 16}, fmt='d', cbar=False, cmap = 'Blues_r')\n",
    "    plt.xlabel('Predicted', fontsize = 14)\n",
    "    plt.ylabel('Actual', fontsize = 14)\n",
    "    plt.show()\n",
    "    \n",
    "def confusion_matrix_with_new_treshold(builted_model):\n",
    "    y_pred_50 = builted_model.predict(X_test)\n",
    "    y_proba = builted_model.predict_proba(X_test)[:,1]\n",
    "    \n",
    "    threshold = []\n",
    "    accuracy = []\n",
    "    roc_auc = []\n",
    "    f1score = []\n",
    "    for i in arange(0,1,0.01):\n",
    "        predicted = (y_proba >= i).astype('int')\n",
    "        threshold.append(i)\n",
    "        accuracy.append(accuracy_score(y_test, predicted))\n",
    "        roc_auc.append(roc_auc_score(y_test, y_proba))\n",
    "        f1score.append(f1_score(y_test, predicted))\n",
    "    pd_df = pd.DataFrame({\"Threshold\": threshold,\n",
    "                          'Accuracy': accuracy,\n",
    "                          'Roc AUC': roc_auc,\n",
    "                          'f1_score': f1score\n",
    "                         }).sort_values(\"f1_score\", ascending = False)\n",
    "    \n",
    "    new_treshold = pd_df[pd_df[\"f1_score\"] == pd_df[\"f1_score\"].max()][\"Threshold\"].iloc[0]\n",
    "    y_pred_new = (y_proba >= new_treshold).astype('int')\n",
    "    \n",
    "\n",
    "    print(\"Confusion Matrix for Optimum Treshold\", \"\\n\")\n",
    "    conf_matrix = confusion_matrix(y_test, y_pred_new)\n",
    "    sns.heatmap(conf_matrix, square=True, annot=True, annot_kws={\"size\": 16}, fmt='d', cbar=False, cmap = 'Blues_r')\n",
    "    plt.xlabel('Predicted', fontsize = 14)\n",
    "    plt.ylabel('Actual', fontsize = 14)\n",
    "    plt.show()"
   ]
  },
  {
   "cell_type": "code",
   "execution_count": 12,
   "metadata": {},
   "outputs": [],
   "source": [
    "def new_treshold(builted_model):\n",
    "    from sklearn.metrics import f1_score\n",
    "    y_pred_50 = builted_model.predict(X_test)\n",
    "    y_proba = builted_model.predict_proba(X_test)[:,1]\n",
    "    \n",
    "    threshold = []\n",
    "    accuracy = []\n",
    "    roc_auc = []\n",
    "    f1score = []\n",
    "    for i in arange(0,1,0.01):\n",
    "        predicted = (y_proba >= i).astype('int')\n",
    "        threshold.append(i)\n",
    "        accuracy.append(accuracy_score(y_test, predicted))\n",
    "        roc_auc.append(roc_auc_score(y_test, y_proba))\n",
    "        f1score.append(f1_score(y_test, predicted))\n",
    "    pd_df = pd.DataFrame({\"Threshold\": threshold,\n",
    "                          'Accuracy': accuracy,\n",
    "                          'Roc AUC': roc_auc,\n",
    "                          'f1_score': f1score\n",
    "                         }).sort_values(\"f1_score\", ascending = False)\n",
    "    \n",
    "    new_treshold = round(pd_df[pd_df[\"f1_score\"] == pd_df[\"f1_score\"].max()][\"Threshold\"].iloc[0],4)\n",
    "    return new_treshold\n",
    "\n",
    "def f1_score_for_new_treshold(builted_model):\n",
    "    from sklearn.metrics import f1_score\n",
    "    y_pred_50 = builted_model.predict(X_test)\n",
    "    y_proba = builted_model.predict_proba(X_test)[:,1]\n",
    "    \n",
    "    threshold = []\n",
    "    accuracy = []\n",
    "    roc_auc = []\n",
    "    f1score = []\n",
    "    for i in arange(0,1,0.01):\n",
    "        predicted = (y_proba >= i).astype('int')\n",
    "        threshold.append(i)\n",
    "        accuracy.append(accuracy_score(y_test, predicted))\n",
    "        roc_auc.append(roc_auc_score(y_test, y_proba))\n",
    "        f1score.append(f1_score(y_test, predicted))\n",
    "    pd_df = pd.DataFrame({\"Threshold\": threshold,\n",
    "                          'Accuracy': accuracy,\n",
    "                          'Roc AUC': roc_auc,\n",
    "                          'f1_score': f1score\n",
    "                         }).sort_values(\"f1_score\", ascending = False)\n",
    "    \n",
    "    f1_score = round(pd_df[\"f1_score\"].max(),4)\n",
    "    return f1_score \n",
    " \n",
    " "
   ]
  },
  {
   "cell_type": "code",
   "execution_count": 13,
   "metadata": {},
   "outputs": [],
   "source": [
    "def classification_report_default(builted_model):\n",
    "    from sklearn.metrics import f1_score\n",
    "    y_pred = builted_model.predict(X_test)\n",
    "    print(\"Classification Report\", \"\\n\", classification_report(y_pred, y_test), \"\\n\")\n",
    "    \n",
    "\n",
    "def classification_report_with_new_treshold(builted_model):\n",
    "    from sklearn.metrics import f1_score\n",
    "    threshold = []\n",
    "    accuracy = []\n",
    "    roc_auc = []\n",
    "    f1score = []\n",
    "    y_proba = builted_model.predict_proba(X_test)[:,1]\n",
    "    for i in arange(0,1,0.01):\n",
    "        predicted = (y_proba >= i).astype('int')\n",
    "        threshold.append(i)\n",
    "        accuracy.append(accuracy_score(y_test, predicted))\n",
    "        roc_auc.append(roc_auc_score(y_test, y_proba))\n",
    "        f1score.append(f1_score(y_test, predicted))\n",
    "    pd_df = pd.DataFrame({\"Threshold\": threshold,\n",
    "                          'Accuracy': accuracy,\n",
    "                          'ROC AUC': roc_auc,\n",
    "                          'f1_score': f1score\n",
    "                         }).sort_values(\"f1_score\", ascending = False)\n",
    "    \n",
    "    treshold_new =  pd_df[pd_df[\"f1_score\"] == pd_df[\"f1_score\"].max()][\"Threshold\"].iloc[0]\n",
    "    predicted_new = (y_proba >= treshold_new).astype('int')\n",
    "    print(\"New Treshold\", treshold_new)\n",
    "    print(\"Classification Report\", \"\\n\", classification_report(predicted_new, y_test), \"\\n\")\n",
    "    "
   ]
  },
  {
   "cell_type": "code",
   "execution_count": 14,
   "metadata": {},
   "outputs": [],
   "source": [
    "def roc_curve(builted_model):\n",
    "    from sklearn.metrics import roc_curve\n",
    "    y_proba = builted_model.predict_proba(X_test)[:, 1]\n",
    "    \n",
    "    # plot the roc curve\n",
    "    fpr, tpr, thresholds = roc_curve(y_test, y_proba)\n",
    "    plt.plot([0,1], [0,1], linestyle='--', label='No Skill')\n",
    "\n",
    "    plt.plot(fpr, tpr, label=\"Builted Model\")\n",
    "\n",
    "    # axis labels\n",
    "    plt.xlabel('False Positive Rate')\n",
    "    plt.ylabel('True Positive Rate')\n",
    "    plt.title(\"ROC Curve\")\n",
    "    plt.legend()\n",
    "    # show the plot\n",
    "    plt.show()\n",
    "    \n",
    "def roc_curve_with_new_threshold(builted_model, model_name = \"\"):\n",
    "    from sklearn.metrics import roc_curve\n",
    "    from sklearn.metrics import f1_score\n",
    "    \n",
    "    y_pred_50 = builted_model.predict(X_test)\n",
    "    y_proba = builted_model.predict_proba(X_test)[:,1]\n",
    "    \n",
    "    threshold = []\n",
    "    accuracy = []\n",
    "    roc_auc = []\n",
    "    f1score = []\n",
    "    for i in arange(0,1,0.01):\n",
    "        predicted = (y_proba >= i).astype('int')\n",
    "        threshold.append(i)\n",
    "        accuracy.append(accuracy_score(y_test, predicted))\n",
    "        roc_auc.append(roc_auc_score(y_test, y_proba))\n",
    "        f1score.append(f1_score(y_test, predicted))\n",
    "    pd_df = pd.DataFrame({\"Threshold\": threshold,\n",
    "                          'Accuracy': accuracy,\n",
    "                          'ROC AUC': roc_auc,\n",
    "                          'f1_score': f1score,\n",
    "                         }).sort_values(\"f1_score\", ascending = False)\n",
    "    \n",
    "    # print(pd_df.head(10))\n",
    "\n",
    "    new_threshold = pd_df[pd_df[\"f1_score\"] == pd_df[\"f1_score\"].max()][\"Threshold\"].iloc[0]\n",
    "    f1_score = pd_df[\"f1_score\"].max()\n",
    "    y_pred_new = (y_proba >= new_threshold).astype('int')\n",
    "    \n",
    "    # plot roc curves\n",
    "    plt.figure(figsize = (8,5))\n",
    "    plt.plot([0,1], [0,1], linestyle='--', label='No Skill')\n",
    "\n",
    "    fpr, tpr, thresholds = roc_curve(y_test, y_proba)\n",
    "    roc_auc = roc_auc_score(y_test, y_proba)\n",
    "    plt.plot(fpr, tpr, label=model_name + \" (ROC Auc = %.2f)\"%(roc_auc))\n",
    "\n",
    "    ix = argmax(f1score)\n",
    "    plt.scatter(fpr[ix], tpr[ix], marker='o', color='black', label='Best Threshold = %.2f, f1_score = %.2f ' % (new_threshold, f1_score))\n",
    "\n",
    "    # axis labels\n",
    "    plt.xlabel('False Positive Rate', fontsize = 14)\n",
    "    plt.ylabel('True Positive Rate', fontsize = 14)\n",
    "    plt.title(\"ROC Curve\", fontsize = 18)\n",
    "    plt.legend()\n",
    "    # show the plot\n",
    "    plt.show()"
   ]
  },
  {
   "cell_type": "code",
   "execution_count": 15,
   "metadata": {},
   "outputs": [],
   "source": [
    "def precision_recall_curve_with_new_threshold(builted_model, model_name =\"\"):\n",
    "    from sklearn.metrics import precision_recall_curve\n",
    "\n",
    "    y_pred_50 = builted_model.predict(X_test)\n",
    "    y_proba = builted_model.predict_proba(X_test)[:,1]\n",
    "    new_threshold = pd_df[pd_df[\"f1_score\"] == pd_df[\"f1_score\"].max()][\"Threshold\"].iloc[0]\n",
    "    y_pred_new = (y_proba >= new_threshold).astype('int')\n",
    "\n",
    "    # Plot the Precision Recall curve\n",
    "    plt.figure(figsize = (8,5))\n",
    "    no_skill = len(y_test[y_test==1]) / len(y_test)\n",
    "    plt.plot([0,1], [no_skill, no_skill], linestyle='--', label='No Skill')\n",
    "\n",
    "    precision, recall, thresholds = precision_recall_curve(y_test, y_proba)\n",
    "    plt.plot(recall, precision, marker='.', label=model_name)\n",
    "\n",
    "    # locate the index of the largest f score\n",
    "    fscore = (2 * precision * recall) / (precision + recall)\n",
    "    ix = argmax(fscore)\n",
    "    # put the best treshold on the curve\n",
    "    plt.scatter(recall[ix], precision[ix], marker='o', color='black', label='Best Threshold = %.2f, f1_score = %.2f ' % ( new_threshold, fscore[ix]))\n",
    "\n",
    "    # axis labels\n",
    "    plt.xlabel('Recall', fontsize = 14)\n",
    "    plt.ylabel('Precision', fontsize = 14)\n",
    "    plt.title(\"Precision Recall Curve\", fontsize = 18)\n",
    "    plt.legend()\n",
    "    plt.show()"
   ]
  },
  {
   "cell_type": "markdown",
   "metadata": {},
   "source": [
    "## Model Pre-Process"
   ]
  },
  {
   "cell_type": "code",
   "execution_count": 16,
   "metadata": {},
   "outputs": [],
   "source": [
    "df = data_orig\n",
    "df = df.drop([\"JobLevel\"], 1)\n",
    "categorical = df.select_dtypes(include=[\"object\"])\n",
    "numeric = df.select_dtypes(include=[\"int\"])\n",
    "# Create dummy variables\n",
    "selected_data = pd.get_dummies(df, columns = categorical.columns, drop_first = True)\n",
    "y = selected_data[\"Attrition\"]\n",
    "X = selected_data.drop([\"Attrition\"],1)\n",
    "X_train, X_test, y_train, y_test = train_test_split(X, y, test_size = 0.45, random_state=0)\n",
    "# X_train, X_test, y_train, y_test = train_test_split(X, y, test_size = 0.45,  stratify=y)\n",
    "\n",
    "X_train, y_train = SMOTE(random_state = 0).fit_resample(X_train, y_train)\n",
    "scaler = StandardScaler()  \n",
    "# Fitting only on training data\n",
    "X_train = scaler.fit_transform(X_train)\n",
    "X_test = scaler.transform(X_test)"
   ]
  },
  {
   "cell_type": "markdown",
   "metadata": {},
   "source": [
    "# Logistic Regression"
   ]
  },
  {
   "cell_type": "code",
   "execution_count": 17,
   "metadata": {},
   "outputs": [
    {
     "name": "stdout",
     "output_type": "stream",
     "text": [
      "Logistic Regression Default Model\n",
      "=============================================================\n",
      "Classification Report \n",
      "               precision    recall  f1-score   support\n",
      "\n",
      "           0       0.92      0.90      0.91       571\n",
      "           1       0.44      0.51      0.47        91\n",
      "\n",
      "    accuracy                           0.84       662\n",
      "   macro avg       0.68      0.70      0.69       662\n",
      "weighted avg       0.85      0.84      0.85       662\n",
      " \n",
      "\n",
      "Grid Search Model\n",
      "=============================================================\n",
      "Classification Report \n",
      "               precision    recall  f1-score   support\n",
      "\n",
      "           0       0.91      0.91      0.91       560\n",
      "           1       0.50      0.51      0.50       102\n",
      "\n",
      "    accuracy                           0.84       662\n",
      "   macro avg       0.70      0.71      0.71       662\n",
      "weighted avg       0.85      0.84      0.85       662\n",
      " \n",
      "\n",
      "Change Treshold\n",
      "=============================================================\n",
      "New Treshold 0.51\n",
      "Classification Report \n",
      "               precision    recall  f1-score   support\n",
      "\n",
      "           0       0.93      0.90      0.92       573\n",
      "           1       0.47      0.55      0.51        89\n",
      "\n",
      "    accuracy                           0.85       662\n",
      "   macro avg       0.70      0.73      0.71       662\n",
      "weighted avg       0.87      0.85      0.86       662\n",
      " \n",
      "\n"
     ]
    }
   ],
   "source": [
    "#### Select classificantion model\n",
    "model_name = \"Logistic Regression\"\n",
    "lr1 = model_built(LogisticRegression())\n",
    "\n",
    "print(model_name, \"Default Model\")\n",
    "print(\"=============================================================\")\n",
    "classification_report_default(lr1)\n",
    "\n",
    "print(\"Grid Search Model\")\n",
    "print(\"=============================================================\")\n",
    "# Set up parameters\n",
    "param_grid = {'penalty': ['l1', 'l2', None],\n",
    "              'solver' : ['liblinear', 'lbfgs', None],\n",
    "              'C':[0.0001,0.001,0.01,0.1,1,5,10,25, None]}\n",
    "\n",
    "grid_search = GridSearchCV(estimator = lr1, param_grid = param_grid, cv = 5, scoring = \"f1\")\n",
    "lr2 = model_built(grid_search)\n",
    "classification_report_default(lr2)\n",
    "\n",
    "print(\"Change Treshold\")\n",
    "print(\"=============================================================\")\n",
    "classification_report_with_new_treshold(lr2)"
   ]
  },
  {
   "cell_type": "code",
   "execution_count": 18,
   "metadata": {},
   "outputs": [
    {
     "data": {
      "text/plain": [
       "{'C': 0.001, 'penalty': 'l2', 'solver': 'liblinear'}"
      ]
     },
     "execution_count": 18,
     "metadata": {},
     "output_type": "execute_result"
    }
   ],
   "source": [
    "lr2.best_params_"
   ]
  },
  {
   "cell_type": "markdown",
   "metadata": {},
   "source": [
    "# Random Forest Model"
   ]
  },
  {
   "cell_type": "code",
   "execution_count": 19,
   "metadata": {},
   "outputs": [
    {
     "name": "stdout",
     "output_type": "stream",
     "text": [
      "Random Forest Default Model\n",
      "=============================================================\n",
      "Classification Report \n",
      "               precision    recall  f1-score   support\n",
      "\n",
      "           0       0.97      0.87      0.91       621\n",
      "           1       0.21      0.54      0.30        41\n",
      "\n",
      "    accuracy                           0.85       662\n",
      "   macro avg       0.59      0.70      0.61       662\n",
      "weighted avg       0.92      0.85      0.88       662\n",
      " \n",
      "\n",
      "Grid Search Model\n",
      "=============================================================\n",
      "Classification Report \n",
      "               precision    recall  f1-score   support\n",
      "\n",
      "           0       0.95      0.88      0.92       601\n",
      "           1       0.32      0.56      0.41        61\n",
      "\n",
      "    accuracy                           0.85       662\n",
      "   macro avg       0.64      0.72      0.66       662\n",
      "weighted avg       0.89      0.85      0.87       662\n",
      " \n",
      "\n",
      "Change Grid Search Model Treshold\n",
      "=============================================================\n",
      "New Treshold 0.4\n",
      "Classification Report \n",
      "               precision    recall  f1-score   support\n",
      "\n",
      "           0       0.88      0.91      0.90       542\n",
      "           1       0.52      0.46      0.49       120\n",
      "\n",
      "    accuracy                           0.83       662\n",
      "   macro avg       0.70      0.68      0.69       662\n",
      "weighted avg       0.82      0.83      0.82       662\n",
      " \n",
      "\n"
     ]
    }
   ],
   "source": [
    "# Select classificantion model\n",
    "model_name = \"Random Forest\"\n",
    "rf1 = model_built(RandomForestClassifier())\n",
    "\n",
    "print(model_name, \"Default Model\")\n",
    "print(\"=============================================================\")\n",
    "classification_report_default(rf1)\n",
    "\n",
    "\n",
    "print(\"Grid Search Model\")\n",
    "print(\"=============================================================\")\n",
    "# Set up parameters\n",
    "param_grid = {\n",
    "    'min_samples_leaf': [5, 10, None],\n",
    "    'criterion': ['gini', 'entropy', None], \n",
    "    'max_features' : ['sqrt', 'log2',None],\n",
    "    'n_estimators': [100, 200, 500, 800, 1000, None]\n",
    "}\n",
    "\n",
    "grid_search = GridSearchCV(estimator = rf1, param_grid = param_grid, cv = 5, scoring = \"f1\")\n",
    "rf2 = model_built(grid_search)\n",
    "classification_report_default(rf2)\n",
    "\n",
    "print(\"Change Grid Search Model Treshold\")\n",
    "print(\"=============================================================\")\n",
    "classification_report_with_new_treshold(rf2)"
   ]
  },
  {
   "cell_type": "code",
   "execution_count": 20,
   "metadata": {},
   "outputs": [
    {
     "data": {
      "text/plain": [
       "{'criterion': 'entropy',\n",
       " 'max_features': 'sqrt',\n",
       " 'min_samples_leaf': 5,\n",
       " 'n_estimators': 1000}"
      ]
     },
     "execution_count": 20,
     "metadata": {},
     "output_type": "execute_result"
    }
   ],
   "source": [
    "rf2.best_params_"
   ]
  },
  {
   "cell_type": "markdown",
   "metadata": {},
   "source": [
    "# K-th Nearest Neighbour"
   ]
  },
  {
   "cell_type": "code",
   "execution_count": 21,
   "metadata": {},
   "outputs": [
    {
     "name": "stdout",
     "output_type": "stream",
     "text": [
      "KNN Default Model\n",
      "=============================================================\n",
      "Classification Report \n",
      "               precision    recall  f1-score   support\n",
      "\n",
      "           0       0.85      0.86      0.86       547\n",
      "           1       0.30      0.27      0.28       115\n",
      "\n",
      "    accuracy                           0.76       662\n",
      "   macro avg       0.57      0.57      0.57       662\n",
      "weighted avg       0.75      0.76      0.76       662\n",
      " \n",
      "\n",
      "Grid Search Model\n",
      "=============================================================\n",
      "Classification Report \n",
      "               precision    recall  f1-score   support\n",
      "\n",
      "           0       0.83      0.88      0.85       531\n",
      "           1       0.37      0.30      0.33       131\n",
      "\n",
      "    accuracy                           0.76       662\n",
      "   macro avg       0.60      0.59      0.59       662\n",
      "weighted avg       0.74      0.76      0.75       662\n",
      " \n",
      "\n",
      "Change Treshold\n",
      "=============================================================\n",
      "New Treshold 0.37\n",
      "Classification Report \n",
      "               precision    recall  f1-score   support\n",
      "\n",
      "           0       0.71      0.89      0.79       443\n",
      "           1       0.55      0.26      0.36       219\n",
      "\n",
      "    accuracy                           0.69       662\n",
      "   macro avg       0.63      0.58      0.58       662\n",
      "weighted avg       0.66      0.69      0.65       662\n",
      " \n",
      "\n"
     ]
    }
   ],
   "source": [
    "# Select classificantion model\n",
    "model_name = \"KNN\"\n",
    "\n",
    "knn1 = model_built(KNeighborsClassifier())\n",
    "print(model_name, \"Default Model\")\n",
    "print(\"=============================================================\")\n",
    "classification_report_default(knn1)\n",
    "\n",
    "\n",
    "print(\"Grid Search Model\")\n",
    "print(\"=============================================================\")\n",
    "\n",
    "#param_grid = {'n_neighbors': np.arange(1, 50)}\n",
    "param_grid = dict(n_neighbors = [3,5,7,11,15,19,21,25,30,35,None], \n",
    "                  weights = ['uniform', 'distance', None],\n",
    "                  metric = [\"eucledian\", \"manhattan\", None])\n",
    "\n",
    "\n",
    "grid_search = GridSearchCV(estimator = knn1, param_grid = param_grid, cv = 10, scoring = 'f1')\n",
    "knn2 = model_built(grid_search)\n",
    "classification_report_default(knn2)\n",
    "\n",
    "print(\"Change Treshold\")\n",
    "print(\"=============================================================\")\n",
    "classification_report_with_new_treshold(knn2)\n"
   ]
  },
  {
   "cell_type": "code",
   "execution_count": 22,
   "metadata": {},
   "outputs": [
    {
     "data": {
      "text/plain": [
       "{'metric': 'manhattan', 'n_neighbors': 5, 'weights': 'distance'}"
      ]
     },
     "execution_count": 22,
     "metadata": {},
     "output_type": "execute_result"
    }
   ],
   "source": [
    "knn2.best_params_"
   ]
  },
  {
   "cell_type": "markdown",
   "metadata": {},
   "source": [
    "# Support Vector Machine"
   ]
  },
  {
   "cell_type": "code",
   "execution_count": 23,
   "metadata": {},
   "outputs": [
    {
     "name": "stdout",
     "output_type": "stream",
     "text": [
      "SVM Default Model\n",
      "=============================================================\n",
      "Classification Report \n",
      "               precision    recall  f1-score   support\n",
      "\n",
      "           0       0.98      0.87      0.92       625\n",
      "           1       0.23      0.65      0.34        37\n",
      "\n",
      "    accuracy                           0.86       662\n",
      "   macro avg       0.60      0.76      0.63       662\n",
      "weighted avg       0.93      0.86      0.89       662\n",
      " \n",
      "\n",
      "Grid Search Model\n",
      "=============================================================\n",
      "Classification Report \n",
      "               precision    recall  f1-score   support\n",
      "\n",
      "           0       0.90      0.88      0.89       568\n",
      "           1       0.37      0.41      0.39        94\n",
      "\n",
      "    accuracy                           0.82       662\n",
      "   macro avg       0.64      0.65      0.64       662\n",
      "weighted avg       0.83      0.82      0.82       662\n",
      " \n",
      "\n",
      "Change Grid Search Model Treshold\n",
      "=============================================================\n",
      "New Treshold 0.33\n",
      "Classification Report \n",
      "               precision    recall  f1-score   support\n",
      "\n",
      "           0       0.87      0.89      0.88       543\n",
      "           1       0.44      0.39      0.41       119\n",
      "\n",
      "    accuracy                           0.80       662\n",
      "   macro avg       0.65      0.64      0.65       662\n",
      "weighted avg       0.79      0.80      0.80       662\n",
      " \n",
      "\n"
     ]
    }
   ],
   "source": [
    "# Select classificantion model\n",
    "model_name = \"SVM\"\n",
    "\n",
    "svm1 = model_built(SVC(probability = True))\n",
    "print(model_name, \"Default Model\")\n",
    "print(\"=============================================================\")\n",
    "classification_report_default(svm1)\n",
    "\n",
    "print(\"Grid Search Model\")\n",
    "print(\"=============================================================\")\n",
    "\n",
    "\n",
    "param_grid = {'C': [0.01, 0.1, 1, 10, 50, None], \n",
    "              'gamma': [0.1, 0.15, 0.2, 0.5, 'auto'], \n",
    "              'kernel': ['poly', 'linear', None]}\n",
    "\n",
    "grid_search = GridSearchCV(estimator = svm1, param_grid = param_grid, cv = 10, scoring = \"f1\")\n",
    "svm2 = model_built(grid_search)\n",
    "classification_report_default(svm2)\n",
    "\n",
    "print(\"Change Grid Search Model Treshold\")\n",
    "print(\"=============================================================\")\n",
    "classification_report_with_new_treshold(svm2)"
   ]
  },
  {
   "cell_type": "code",
   "execution_count": 24,
   "metadata": {},
   "outputs": [
    {
     "data": {
      "text/plain": [
       "{'C': 1, 'gamma': 'auto', 'kernel': 'poly'}"
      ]
     },
     "execution_count": 24,
     "metadata": {},
     "output_type": "execute_result"
    }
   ],
   "source": [
    "svm2.best_params_"
   ]
  },
  {
   "cell_type": "markdown",
   "metadata": {},
   "source": [
    "# Gradient Boost"
   ]
  },
  {
   "cell_type": "code",
   "execution_count": 25,
   "metadata": {},
   "outputs": [
    {
     "name": "stdout",
     "output_type": "stream",
     "text": [
      "Gradient Boost Default Model\n",
      "=============================================================\n",
      "Classification Report \n",
      "               precision    recall  f1-score   support\n",
      "\n",
      "           0       0.95      0.88      0.91       597\n",
      "           1       0.33      0.54      0.41        65\n",
      "\n",
      "    accuracy                           0.85       662\n",
      "   macro avg       0.64      0.71      0.66       662\n",
      "weighted avg       0.89      0.85      0.86       662\n",
      " \n",
      "\n",
      "Grid Search Model\n",
      "=============================================================\n",
      "Classification Report \n",
      "               precision    recall  f1-score   support\n",
      "\n",
      "           0       0.94      0.89      0.91       590\n",
      "           1       0.36      0.53      0.43        72\n",
      "\n",
      "    accuracy                           0.85       662\n",
      "   macro avg       0.65      0.71      0.67       662\n",
      "weighted avg       0.88      0.85      0.86       662\n",
      " \n",
      "\n",
      "Change Grid Search Model Treshold\n",
      "=============================================================\n",
      "New Treshold 0.07\n",
      "Classification Report \n",
      "               precision    recall  f1-score   support\n",
      "\n",
      "           0       0.89      0.90      0.89       550\n",
      "           1       0.48      0.45      0.46       112\n",
      "\n",
      "    accuracy                           0.82       662\n",
      "   macro avg       0.68      0.67      0.68       662\n",
      "weighted avg       0.82      0.82      0.82       662\n",
      " \n",
      "\n"
     ]
    }
   ],
   "source": [
    "# Select classificantion model\n",
    "model_name = \"Gradient Boost\"\n",
    "\n",
    "gb1 = model_built(GradientBoostingClassifier())\n",
    "print(model_name, \"Default Model\")\n",
    "print(\"=============================================================\")\n",
    "classification_report_default(gb1)\n",
    "\n",
    "\n",
    "print(\"Grid Search Model\")\n",
    "print(\"=============================================================\")\n",
    "param_grid ={\n",
    "    'n_estimators': [100, 250, 500, 1000, None],\n",
    "    'learning_rate' : [0.01, 0.05, 0.1, 0.15, 0.2, 0.3, None]\n",
    "}\n",
    "\n",
    "\n",
    "grid_search = GridSearchCV(estimator = gb1, param_grid = param_grid, cv = 10, scoring = 'f1')\n",
    "gb2 = model_built(grid_search)\n",
    "classification_report_default(gb2)\n",
    "\n",
    "\n",
    "print(\"Change Grid Search Model Treshold\")\n",
    "print(\"=============================================================\")\n",
    "classification_report_with_new_treshold(gb2)\n",
    "\n"
   ]
  },
  {
   "cell_type": "code",
   "execution_count": 26,
   "metadata": {},
   "outputs": [
    {
     "data": {
      "text/plain": [
       "{'learning_rate': 0.2, 'n_estimators': 1000}"
      ]
     },
     "execution_count": 26,
     "metadata": {},
     "output_type": "execute_result"
    }
   ],
   "source": [
    "gb2.best_params_"
   ]
  },
  {
   "cell_type": "markdown",
   "metadata": {},
   "source": [
    "# Ada Boost"
   ]
  },
  {
   "cell_type": "code",
   "execution_count": 27,
   "metadata": {},
   "outputs": [
    {
     "name": "stdout",
     "output_type": "stream",
     "text": [
      "Ada Boost Default Model\n",
      "=============================================================\n",
      "Classification Report \n",
      "               precision    recall  f1-score   support\n",
      "\n",
      "           0       0.90      0.88      0.89       567\n",
      "           1       0.35      0.39      0.37        95\n",
      "\n",
      "    accuracy                           0.81       662\n",
      "   macro avg       0.62      0.63      0.63       662\n",
      "weighted avg       0.82      0.81      0.81       662\n",
      " \n",
      "\n",
      "Grid Search Model\n",
      "=============================================================\n",
      "Classification Report \n",
      "               precision    recall  f1-score   support\n",
      "\n",
      "           0       0.90      0.90      0.90       559\n",
      "           1       0.46      0.47      0.46       103\n",
      "\n",
      "    accuracy                           0.83       662\n",
      "   macro avg       0.68      0.68      0.68       662\n",
      "weighted avg       0.83      0.83      0.83       662\n",
      " \n",
      "\n",
      "Change Grid Search Model Treshold\n",
      "=============================================================\n",
      "New Treshold 0.5\n",
      "Classification Report \n",
      "               precision    recall  f1-score   support\n",
      "\n",
      "           0       0.90      0.90      0.90       559\n",
      "           1       0.46      0.47      0.46       103\n",
      "\n",
      "    accuracy                           0.83       662\n",
      "   macro avg       0.68      0.68      0.68       662\n",
      "weighted avg       0.83      0.83      0.83       662\n",
      " \n",
      "\n"
     ]
    }
   ],
   "source": [
    "# Select classificantion model\n",
    "model_name = \"Ada Boost\"\n",
    "\n",
    "ada1 = model_built(AdaBoostClassifier())\n",
    "print(model_name, \"Default Model\")\n",
    "print(\"=============================================================\")\n",
    "classification_report_default(ada1)\n",
    "\n",
    "\n",
    "print(\"Grid Search Model\")\n",
    "print(\"=============================================================\")\n",
    "param_grid ={\n",
    "    'n_estimators': [150, 180, 200, None],\n",
    "    'learning_rate' : [0.01, 0.05, 0.1, 0.15, 0.2, 0.3, None]\n",
    "}\n",
    "\n",
    "grid_search = GridSearchCV(estimator = ada1, param_grid = param_grid, cv = 10, scoring = 'f1')\n",
    "ada2 = model_built(grid_search)\n",
    "classification_report_default(ada2)\n",
    "\n",
    "print(\"Change Grid Search Model Treshold\")\n",
    "print(\"=============================================================\")\n",
    "classification_report_with_new_treshold(ada2)\n",
    "\n"
   ]
  },
  {
   "cell_type": "code",
   "execution_count": 28,
   "metadata": {},
   "outputs": [
    {
     "data": {
      "text/plain": [
       "{'learning_rate': 0.2, 'n_estimators': 180}"
      ]
     },
     "execution_count": 28,
     "metadata": {},
     "output_type": "execute_result"
    }
   ],
   "source": [
    "ada2.best_params_"
   ]
  },
  {
   "cell_type": "markdown",
   "metadata": {},
   "source": [
    "# Model Comparison"
   ]
  },
  {
   "cell_type": "code",
   "execution_count": 30,
   "metadata": {},
   "outputs": [
    {
     "data": {
      "text/html": [
       "<div>\n",
       "<style scoped>\n",
       "    .dataframe tbody tr th:only-of-type {\n",
       "        vertical-align: middle;\n",
       "    }\n",
       "\n",
       "    .dataframe tbody tr th {\n",
       "        vertical-align: top;\n",
       "    }\n",
       "\n",
       "    .dataframe thead th {\n",
       "        text-align: right;\n",
       "    }\n",
       "</style>\n",
       "<table border=\"1\" class=\"dataframe\">\n",
       "  <thead>\n",
       "    <tr style=\"text-align: right;\">\n",
       "      <th></th>\n",
       "      <th>default_model</th>\n",
       "      <th>grid_search_model</th>\n",
       "      <th>moved_threshold</th>\n",
       "    </tr>\n",
       "  </thead>\n",
       "  <tbody>\n",
       "    <tr>\n",
       "      <th>Logistic Regression</th>\n",
       "      <td>0.4694</td>\n",
       "      <td>0.5024</td>\n",
       "      <td>0.5052</td>\n",
       "    </tr>\n",
       "    <tr>\n",
       "      <th>Random Forest</th>\n",
       "      <td>0.3014</td>\n",
       "      <td>0.4096</td>\n",
       "      <td>0.4889</td>\n",
       "    </tr>\n",
       "    <tr>\n",
       "      <th>KNN</th>\n",
       "      <td>0.2818</td>\n",
       "      <td>0.3305</td>\n",
       "      <td>0.3580</td>\n",
       "    </tr>\n",
       "    <tr>\n",
       "      <th>SVM</th>\n",
       "      <td>0.3380</td>\n",
       "      <td>0.3920</td>\n",
       "      <td>0.4107</td>\n",
       "    </tr>\n",
       "    <tr>\n",
       "      <th>Gradient Boosting</th>\n",
       "      <td>0.4118</td>\n",
       "      <td>0.4118</td>\n",
       "      <td>0.4608</td>\n",
       "    </tr>\n",
       "    <tr>\n",
       "      <th>ADA Boosting</th>\n",
       "      <td>0.3700</td>\n",
       "      <td>0.4615</td>\n",
       "      <td>0.4615</td>\n",
       "    </tr>\n",
       "  </tbody>\n",
       "</table>\n",
       "</div>"
      ],
      "text/plain": [
       "                     default_model  grid_search_model  moved_threshold\n",
       "Logistic Regression         0.4694             0.5024           0.5052\n",
       "Random Forest               0.3014             0.4096           0.4889\n",
       "KNN                         0.2818             0.3305           0.3580\n",
       "SVM                         0.3380             0.3920           0.4107\n",
       "Gradient Boosting           0.4118             0.4118           0.4608\n",
       "ADA Boosting                0.3700             0.4615           0.4615"
      ]
     },
     "execution_count": 30,
     "metadata": {},
     "output_type": "execute_result"
    }
   ],
   "source": [
    "# Dictionary of f1 scores\n",
    "d = {'Logistic Regression': [lr1, lr2, lr2], \n",
    "     'Random Forest': [rf1, rf2, rf2], \n",
    "     'KNN': [knn1, knn2, knn2], \n",
    "     'SVM': [svm1, svm2, svm2],\n",
    "     'Gradient Boosting': [gb1, gb1, gb2],\n",
    "     'ADA Boosting': [ada1, ada2, ada2]}\n",
    "\n",
    "for i, v in d.items():\n",
    "    v[0] = f1_score(y_test, v[0].predict(X_test),4)\n",
    "    v[1] = f1_score(y_test, v[1].predict(X_test),4)\n",
    "    v[2] = f1_score_for_new_treshold(v[2])\n",
    "\n",
    "comparison_table = pd.DataFrame.from_dict(d, orient='index')\n",
    "comparison_table.columns = ['default_model', 'grid_search_model', 'moved_threshold']\n",
    "comparison_table[\"default_model\"] = comparison_table[\"default_model\"].round(4)\n",
    "comparison_table[\"grid_search_model\"] = comparison_table[\"grid_search_model\"].round(4)\n",
    "comparison_table"
   ]
  },
  {
   "cell_type": "markdown",
   "metadata": {},
   "source": [
    "# Model Evaluation for Logistic Regression Classification"
   ]
  },
  {
   "cell_type": "markdown",
   "metadata": {},
   "source": [
    "* ## Confusion Matrix Before and After Moving Treshold"
   ]
  },
  {
   "cell_type": "code",
   "execution_count": 44,
   "metadata": {},
   "outputs": [
    {
     "name": "stdout",
     "output_type": "stream",
     "text": [
      "Confusion Matrix for Default Model \n",
      "\n"
     ]
    },
    {
     "data": {
      "image/png": "[encoded data removed]",
      "text/plain": [
       "<Figure size 432x288 with 1 Axes>"
      ]
     },
     "metadata": {
      "needs_background": "light"
     },
     "output_type": "display_data"
    },
    {
     "name": "stdout",
     "output_type": "stream",
     "text": [
      "\n",
      "\n",
      "Confusion Matrix for Optimum Treshold \n",
      "\n"
     ]
    },
    {
     "data": {
      "image/png": "[encoded data removed]",
      "text/plain": [
       "<Figure size 432x288 with 1 Axes>"
      ]
     },
     "metadata": {
      "needs_background": "light"
     },
     "output_type": "display_data"
    }
   ],
   "source": [
    "from sklearn.metrics import f1_score\n",
    "confusion_matrix_default(lr1)\n",
    "print(\"\\n\")\n",
    "confusion_matrix_with_new_treshold(lr2)"
   ]
  },
  {
   "cell_type": "markdown",
   "metadata": {},
   "source": [
    "* ## Optimum Threshold for Logistic Regression to get maximum f1 score"
   ]
  },
  {
   "cell_type": "code",
   "execution_count": 41,
   "metadata": {},
   "outputs": [
    {
     "data": {
      "image/png": "[encoded data removed]",
      "text/plain": [
       "<Figure size 576x360 with 1 Axes>"
      ]
     },
     "metadata": {
      "needs_background": "light"
     },
     "output_type": "display_data"
    }
   ],
   "source": [
    "from sklearn.metrics import f1_score\n",
    "y_pred_50 = lr2.predict(X_test)\n",
    "y_proba = lr2.predict_proba(X_test)[:,1]\n",
    "threshold = []\n",
    "accuracy = []\n",
    "roc_auc = []\n",
    "f1score = []\n",
    "for i in arange(0,1,0.01):\n",
    "    predicted = (y_proba >= i).astype('int')\n",
    "    threshold.append(i)\n",
    "    accuracy.append(accuracy_score(y_test, predicted))\n",
    "    roc_auc.append(roc_auc_score(y_test, y_proba))\n",
    "    f1score.append(f1_score(y_test, predicted))\n",
    "pd_df = pd.DataFrame({\"Threshold\": threshold,\n",
    "                      'Accuracy': accuracy,\n",
    "                      'ROC AUC': roc_auc,\n",
    "                      'f1_score': f1score\n",
    "                     }).sort_values(\"f1_score\", ascending = False)\n",
    "\n",
    "# Plot f1 and accuracy scores \n",
    "threshold = pd_df[pd_df[\"f1_score\"] == pd_df[\"f1_score\"].max()][\"Threshold\"].iloc[0]\n",
    "accuracy= pd_df[pd_df[\"f1_score\"] == pd_df[\"f1_score\"].max()][\"Accuracy\"].iloc[0]\n",
    "AUC = pd_df[pd_df[\"f1_score\"] == pd_df[\"f1_score\"].max()][\"ROC AUC\"].iloc[0]\n",
    "f1_score = pd_df[\"f1_score\"].max()\n",
    "pd_df = pd_df.sort_values(\"Threshold\")\n",
    "plt.figure(figsize=(8,5))\n",
    "plt.plot(pd_df[\"Threshold\"], pd_df[\"Accuracy\"], label = \"Accuracy %.2f\"%(accuracy))\n",
    "plt.plot(pd_df[\"Threshold\"], pd_df[\"f1_score\"], label = \"f1_score %.2f\"%(f1_score))\n",
    "# plt.plot(pd_df[\"Threshold\"], pd_df[\"ROC AUC\"], label = \"ROC AUC %.2f\"%(AUC))\n",
    "plt.axvline(threshold, color = \"red\", linestyle=\"dashed\", label = \"Best Threshold %.2f\"%(threshold))\n",
    "plt.xlabel('Threshold', fontsize = 14)\n",
    "plt.ylabel('Score', fontsize = 14)\n",
    "plt.title(\"Scores vs Tresholds\", fontsize = 18, fontweight=\"bold\")\n",
    "plt.legend()\n",
    "plt.show()"
   ]
  },
  {
   "cell_type": "markdown",
   "metadata": {},
   "source": [
    "* ## Plot ROC Curve"
   ]
  },
  {
   "cell_type": "code",
   "execution_count": 33,
   "metadata": {},
   "outputs": [
    {
     "data": {
      "image/png": "[encoded data removed]",
      "text/plain": [
       "<Figure size 576x360 with 1 Axes>"
      ]
     },
     "metadata": {
      "needs_background": "light"
     },
     "output_type": "display_data"
    }
   ],
   "source": [
    "roc_curve_with_new_threshold(lr2, \"Logistic Regression\")"
   ]
  },
  {
   "cell_type": "markdown",
   "metadata": {},
   "source": [
    "* ## Presicion Recall Curve"
   ]
  },
  {
   "cell_type": "code",
   "execution_count": 34,
   "metadata": {},
   "outputs": [
    {
     "data": {
      "image/png": "[encoded data removed]",
      "text/plain": [
       "<Figure size 576x360 with 1 Axes>"
      ]
     },
     "metadata": {
      "needs_background": "light"
     },
     "output_type": "display_data"
    }
   ],
   "source": [
    "precision_recall_curve_with_new_threshold(lr2, \"Logistic Regression\")"
   ]
  },
  {
   "cell_type": "markdown",
   "metadata": {},
   "source": [
    "* ## Siginificant Features"
   ]
  },
  {
   "cell_type": "code",
   "execution_count": 35,
   "metadata": {},
   "outputs": [
    {
     "name": "stdout",
     "output_type": "stream",
     "text": [
      "Optimization terminated successfully.\n",
      "         Current function value: 0.292271\n",
      "         Iterations 8\n",
      "                           Logit Regression Results                           \n",
      "==============================================================================\n",
      "Dep. Variable:              Attrition   No. Observations:                 1470\n",
      "Model:                          Logit   Df Residuals:                     1427\n",
      "Method:                           MLE   Df Model:                           42\n",
      "Date:                Thu, 29 Apr 2021   Pseudo R-squ.:                  0.3383\n",
      "Time:                        12:33:27   Log-Likelihood:                -429.64\n",
      "converged:                       True   LL-Null:                       -649.29\n",
      "Covariance Type:            nonrobust   LLR p-value:                 1.246e-67\n",
      "=====================================================================================================\n",
      "                                        coef    std err          z      P>|z|      [0.025      0.975]\n",
      "-----------------------------------------------------------------------------------------------------\n",
      "Age                                  -0.0312      0.014     -2.307      0.021      -0.058      -0.005\n",
      "DailyRate                            -0.0003      0.000     -1.283      0.199      -0.001       0.000\n",
      "DistanceFromHome                      0.0450      0.011      4.189      0.000       0.024       0.066\n",
      "Education                             0.0034      0.087      0.039      0.969      -0.168       0.175\n",
      "EnvironmentSatisfaction              -0.4368      0.083     -5.275      0.000      -0.599      -0.275\n",
      "HourlyRate                            0.0010      0.004      0.219      0.826      -0.008       0.010\n",
      "JobInvolvement                       -0.5285      0.122     -4.324      0.000      -0.768      -0.289\n",
      "JobSatisfaction                      -0.4138      0.081     -5.092      0.000      -0.573      -0.255\n",
      "MonthlyIncome                     -6.294e-06   5.94e-05     -0.106      0.916      -0.000       0.000\n",
      "MonthlyRate                        4.387e-06   1.24e-05      0.352      0.724      -2e-05    2.88e-05\n",
      "NumCompaniesWorked                    0.1959      0.039      5.060      0.000       0.120       0.272\n",
      "PercentSalaryHike                    -0.0203      0.039     -0.520      0.603      -0.097       0.056\n",
      "PerformanceRating                     0.0953      0.389      0.245      0.807      -0.668       0.858\n",
      "RelationshipSatisfaction             -0.2578      0.082     -3.130      0.002      -0.419      -0.096\n",
      "StockOptionLevel                     -0.2118      0.158     -1.345      0.179      -0.521       0.097\n",
      "TotalWorkingYears                    -0.0619      0.028     -2.173      0.030      -0.118      -0.006\n",
      "TrainingTimesLastYear                -0.1908      0.073     -2.613      0.009      -0.334      -0.048\n",
      "WorkLifeBalance                      -0.3742      0.123     -3.031      0.002      -0.616      -0.132\n",
      "YearsAtCompany                        0.0921      0.039      2.381      0.017       0.016       0.168\n",
      "YearsInCurrentRole                   -0.1469      0.045     -3.244      0.001      -0.236      -0.058\n",
      "YearsSinceLastPromotion               0.1743      0.042      4.110      0.000       0.091       0.257\n",
      "YearsWithCurrManager                 -0.1346      0.047     -2.864      0.004      -0.227      -0.042\n",
      "BusinessTravel_Travel_Frequently      1.9021      0.410      4.636      0.000       1.098       2.706\n",
      "BusinessTravel_Travel_Rarely          1.0226      0.377      2.711      0.007       0.283       1.762\n",
      "Department_Research & Development     2.2475      1.480      1.518      0.129      -0.654       5.149\n",
      "Department_Sales                      2.1182      1.761      1.203      0.229      -1.334       5.570\n",
      "EducationField_Life Sciences         -0.7539      0.797     -0.946      0.344      -2.316       0.809\n",
      "EducationField_Marketing             -0.3534      0.846     -0.418      0.676      -2.013       1.306\n",
      "EducationField_Medical               -0.8449      0.796     -1.062      0.288      -2.405       0.715\n",
      "EducationField_Other                 -0.8334      0.857     -0.973      0.331      -2.513       0.846\n",
      "EducationField_Technical Degree       0.1730      0.815      0.212      0.832      -1.425       1.771\n",
      "Gender_Male                           0.3938      0.184      2.137      0.033       0.033       0.755\n",
      "JobRole_Human Resources               3.4981      1.351      2.590      0.010       0.851       6.145\n",
      "JobRole_Laboratory Technician         1.4965      0.466      3.209      0.001       0.582       2.411\n",
      "JobRole_Manager                       0.3403      0.889      0.383      0.702      -1.401       2.082\n",
      "JobRole_Manufacturing Director        0.2132      0.531      0.402      0.688      -0.827       1.254\n",
      "JobRole_Research Director            -1.0670      1.005     -1.062      0.288      -3.037       0.903\n",
      "JobRole_Research Scientist            0.5521      0.474      1.165      0.244      -0.377       1.481\n",
      "JobRole_Sales Executive               1.1451      1.118      1.024      0.306      -1.047       3.337\n",
      "JobRole_Sales Representative          2.1206      1.163      1.823      0.068      -0.160       4.401\n",
      "MaritalStatus_Married                 0.3172      0.266      1.192      0.233      -0.204       0.839\n",
      "MaritalStatus_Single                  1.1365      0.344      3.305      0.001       0.463       1.810\n",
      "OverTime_Yes                          1.9853      0.194     10.246      0.000       1.606       2.365\n",
      "=====================================================================================================\n"
     ]
    }
   ],
   "source": [
    "import statsmodels.api as sm\n",
    "logit_model=sm.Logit(y, X)\n",
    "result=logit_model.fit()\n",
    "print(result.summary())"
   ]
  },
  {
   "cell_type": "markdown",
   "metadata": {},
   "source": [
    "* ## Feature Importance for Logistic Regression"
   ]
  },
  {
   "cell_type": "code",
   "execution_count": 36,
   "metadata": {
    "tags": []
   },
   "outputs": [
    {
     "data": {
      "image/png": "[encoded data removed]",
      "text/plain": [
       "<Figure size 576x720 with 1 Axes>"
      ]
     },
     "metadata": {
      "needs_background": "light"
     },
     "output_type": "display_data"
    }
   ],
   "source": [
    "# Another Way\n",
    "feature_importance=pd.DataFrame(np.hstack((np.array([list(X.columns)]).T, lr1.coef_.T)), columns=['feature', 'importance'])\n",
    "feature_importance['importance']=pd.to_numeric(feature_importance['importance'])\n",
    "feature_importance = feature_importance.sort_values(by='importance')\n",
    "# plot feature importance\n",
    "plt.figure(figsize=(8,10))\n",
    "plt.barh(feature_importance[\"feature\"], feature_importance[\"importance\"])\n",
    "plt.xticks(rotation=90)\n",
    "plt.title(\"Feature Importance\", fontsize = 18)\n",
    "plt.show()"
   ]
  },
  {
   "cell_type": "code",
   "execution_count": 37,
   "metadata": {},
   "outputs": [
    {
     "data": {
      "image/png": "[encoded data removed]",
      "text/plain": [
       "<Figure size 720x720 with 1 Axes>"
      ]
     },
     "metadata": {
      "needs_background": "light"
     },
     "output_type": "display_data"
    }
   ],
   "source": [
    "import math\n",
    "feature_importance = pd.DataFrame(X.columns, columns = [\"feature\"])\n",
    "feature_importance[\"importance\"] = pow(math.e, lr1.coef_[0])\n",
    "feature_importance = feature_importance.sort_values(by = [\"importance\"])\n",
    " \n",
    "plt.figure(figsize = (10,10))\n",
    "plt.barh(feature_importance[\"feature\"], feature_importance[\"importance\"])\n",
    "plt.show()"
   ]
  },
  {
   "cell_type": "markdown",
   "metadata": {},
   "source": [
    "* ## Feature Importance for Random Forest"
   ]
  },
  {
   "cell_type": "code",
   "execution_count": 38,
   "metadata": {},
   "outputs": [
    {
     "name": "stdout",
     "output_type": "stream",
     "text": [
      "30\n"
     ]
    },
    {
     "data": {
      "image/png": "[encoded data removed]",
      "text/plain": [
       "<Figure size 720x720 with 1 Axes>"
      ]
     },
     "metadata": {
      "needs_background": "light"
     },
     "output_type": "display_data"
    }
   ],
   "source": [
    "feature_importance = rf1.feature_importances_\n",
    "# make importances relative to max importance\n",
    "feature_importance = 100.0 * (feature_importance / feature_importance.max())[:30]\n",
    "sorted_idx = np.argsort(feature_importance)[:30]\n",
    "\n",
    "pos = np.arange(sorted_idx.shape[0]) + .5\n",
    "print(pos.size)\n",
    "sorted_idx.size\n",
    "plt.figure(figsize=(10,10))\n",
    "plt.barh(pos, feature_importance[sorted_idx], align='center')\n",
    "plt.yticks(pos, X.columns[sorted_idx])\n",
    "plt.xlabel('Relative Importance')\n",
    "plt.title('Variable Importance')\n",
    "plt.show()"
   ]
  },
  {
   "cell_type": "code",
   "execution_count": null,
   "metadata": {},
   "outputs": [],
   "source": []
  },
  {
   "cell_type": "code",
   "execution_count": null,
   "metadata": {},
   "outputs": [],
   "source": []
  },
  {
   "cell_type": "code",
   "execution_count": null,
   "metadata": {},
   "outputs": [],
   "source": []
  }
 ],
 "metadata": {
  "kernelspec": {
   "display_name": "Python 3",
   "language": "python",
   "name": "python3"
  },
  "language_info": {
   "codemirror_mode": {
    "name": "ipython",
    "version": 3
   },
   "file_extension": ".py",
   "mimetype": "text/x-python",
   "name": "python",
   "nbconvert_exporter": "python",
   "pygments_lexer": "ipython3",
   "version": "3.9.2"
  }
 },
 "nbformat": 4,
 "nbformat_minor": 4
}
